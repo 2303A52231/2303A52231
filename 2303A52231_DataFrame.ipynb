{
  "nbformat": 4,
  "nbformat_minor": 0,
  "metadata": {
    "colab": {
      "provenance": [],
      "include_colab_link": true
    },
    "kernelspec": {
      "name": "python3",
      "display_name": "Python 3"
    },
    "language_info": {
      "name": "python"
    }
  },
  "cells": [
    {
      "cell_type": "markdown",
      "metadata": {
        "id": "view-in-github",
        "colab_type": "text"
      },
      "source": [
        "<a href=\"https://colab.research.google.com/github/2303A52231/2303A52231/blob/main/2303A52231_DataFrame.ipynb\" target=\"_parent\"><img src=\"https://colab.research.google.com/assets/colab-badge.svg\" alt=\"Open In Colab\"/></a>"
      ]
    },
    {
      "cell_type": "code",
      "execution_count": null,
      "metadata": {
        "id": "0bwZcVyA-PW3",
        "colab": {
          "base_uri": "https://localhost:8080/"
        },
        "outputId": "3d58a3a8-806d-406a-b506-aaefffb5ac2b"
      },
      "outputs": [
        {
          "output_type": "stream",
          "name": "stdout",
          "text": [
            "    name  Age  height  weight\n",
            "0  kiran   25     145      45\n",
            "1   Arun   30     151      55\n",
            "2  vijay   35     165      65\n",
            "3  varun   40     173      75\n"
          ]
        }
      ],
      "source": [
        "\n",
        "import pandas as pd\n",
        "people = ['kiran','Arun','vijay','varun']\n",
        "age = [25,30,35,40]\n",
        "height = [145,151,165,173]\n",
        "weight = [45,55,65,75]\n",
        "data = {\n",
        "    'name': people,\n",
        "    'Age': age,\n",
        "    'height': height,\n",
        "    'weight': weight,\n",
        "}\n",
        "df=pd.DataFrame(data)\n",
        "print(df)\n"
      ]
    }
  ]
}