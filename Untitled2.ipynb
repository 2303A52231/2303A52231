{
  "nbformat": 4,
  "nbformat_minor": 0,
  "metadata": {
    "colab": {
      "provenance": [],
      "include_colab_link": true
    },
    "kernelspec": {
      "name": "python3",
      "display_name": "Python 3"
    },
    "language_info": {
      "name": "python"
    }
  },
  "cells": [
    {
      "cell_type": "markdown",
      "metadata": {
        "id": "view-in-github",
        "colab_type": "text"
      },
      "source": [
        "<a href=\"https://colab.research.google.com/github/2303A52231/2303A52231/blob/main/Untitled2.ipynb\" target=\"_parent\"><img src=\"https://colab.research.google.com/assets/colab-badge.svg\" alt=\"Open In Colab\"/></a>"
      ]
    },
    {
      "cell_type": "code",
      "execution_count": null,
      "metadata": {
        "colab": {
          "base_uri": "https://localhost:8080/"
        },
        "id": "7yqS432tFJuM",
        "outputId": "b02c386a-2968-4f8b-bb4e-da3110aae2c6"
      },
      "outputs": [
        {
          "output_type": "stream",
          "name": "stdout",
          "text": [
            "[1 2 3]\n"
          ]
        }
      ],
      "source": [
        "import numpy as np\n",
        "array=np.array([1,2,3])\n",
        "print(array)"
      ]
    },
    {
      "cell_type": "code",
      "source": [
        "import numpy as np\n",
        "array1= np.array([1,2,3])\n",
        "array2= np.array([4,5,6])\n",
        "print(\"Addition :\"+str(array1+array2))\n",
        "print(\"Subtraction :\"+str(array1-array2))\n",
        "print(\"Multiplication :\"+str(array1*array2))\n",
        "print(\"Division :\"+str(array1/array2))\n",
        "print(\"Power :\"+str(array1**array2))\n",
        "print(\"Modulus :\"+str(array1%array2))"
      ],
      "metadata": {
        "colab": {
          "base_uri": "https://localhost:8080/"
        },
        "id": "mXpu0dXWGOYk",
        "outputId": "da510255-c3d9-4221-9008-642f0a603418"
      },
      "execution_count": null,
      "outputs": [
        {
          "output_type": "stream",
          "name": "stdout",
          "text": [
            "Addition :[5 7 9]\n",
            "Subtraction :[-3 -3 -3]\n",
            "Multiplication :[ 4 10 18]\n",
            "Division :[0.25 0.4  0.5 ]\n",
            "Power :[  1  32 729]\n",
            "Modulus :[1 2 3]\n"
          ]
        }
      ]
    },
    {
      "cell_type": "code",
      "source": [
        "import numpy as np\n",
        "array1= np.array([1,2,3])\n",
        "array2= np.array([4,5,6])\n",
        "print(np.sin(array1))\n",
        "print(np.cos(array1))\n",
        "print(np.tan(array1))\n",
        "print(np.log(array1))\n",
        "print(np.exp(array1))\n",
        "print(np.log2(array1))\n",
        "print(np.log(array1))"
      ],
      "metadata": {
        "colab": {
          "base_uri": "https://localhost:8080/"
        },
        "id": "gsXJgfe7GbJ_",
        "outputId": "ce55e019-7ccd-4155-cb89-3520cf056675"
      },
      "execution_count": null,
      "outputs": [
        {
          "output_type": "stream",
          "name": "stdout",
          "text": [
            "[0.84147098 0.90929743 0.14112001]\n",
            "[ 0.54030231 -0.41614684 -0.9899925 ]\n",
            "[ 1.55740772 -2.18503986 -0.14254654]\n",
            "[0.         0.69314718 1.09861229]\n",
            "[ 2.71828183  7.3890561  20.08553692]\n",
            "[0.        1.        1.5849625]\n",
            "[0.         0.69314718 1.09861229]\n"
          ]
        }
      ]
    }
  ]
}