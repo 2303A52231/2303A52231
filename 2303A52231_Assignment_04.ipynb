{
  "nbformat": 4,
  "nbformat_minor": 0,
  "metadata": {
    "colab": {
      "provenance": [],
      "include_colab_link": true
    },
    "kernelspec": {
      "name": "python3",
      "display_name": "Python 3"
    },
    "language_info": {
      "name": "python"
    }
  },
  "cells": [
    {
      "cell_type": "markdown",
      "metadata": {
        "id": "view-in-github",
        "colab_type": "text"
      },
      "source": [
        "<a href=\"https://colab.research.google.com/github/2303A52231/2303A52231/blob/main/2303A52231_Assignment_04.ipynb\" target=\"_parent\"><img src=\"https://colab.research.google.com/assets/colab-badge.svg\" alt=\"Open In Colab\"/></a>"
      ]
    },
    {
      "cell_type": "code",
      "execution_count": null,
      "metadata": {
        "colab": {
          "base_uri": "https://localhost:8080/"
        },
        "id": "QJrg7CvNOIRh",
        "outputId": "fabefd16-2ca9-4e3b-8b12-1df44ec23ff3"
      },
      "outputs": [
        {
          "output_type": "stream",
          "name": "stdout",
          "text": [
            "      battery_power  blue  clock_speed  dual_sim  fc  four_g  int_memory  \\\n",
            "0               842     0          2.2         0   1       0           7   \n",
            "1              1021     1          0.5         1   0       1          53   \n",
            "2               563     1          0.5         1   2       1          41   \n",
            "3               615     1          2.5         0   0       0          10   \n",
            "4              1821     1          1.2         0  13       1          44   \n",
            "...             ...   ...          ...       ...  ..     ...         ...   \n",
            "1995            794     1          0.5         1   0       1           2   \n",
            "1996           1965     1          2.6         1   0       0          39   \n",
            "1997           1911     0          0.9         1   1       1          36   \n",
            "1998           1512     0          0.9         0   4       1          46   \n",
            "1999            510     1          2.0         1   5       1          45   \n",
            "\n",
            "      m_dep  mobile_wt  n_cores  ...  px_height  px_width   ram  sc_h  sc_w  \\\n",
            "0       0.6        188        2  ...         20       756  2549     9     7   \n",
            "1       0.7        136        3  ...        905      1988  2631    17     3   \n",
            "2       0.9        145        5  ...       1263      1716  2603    11     2   \n",
            "3       0.8        131        6  ...       1216      1786  2769    16     8   \n",
            "4       0.6        141        2  ...       1208      1212  1411     8     2   \n",
            "...     ...        ...      ...  ...        ...       ...   ...   ...   ...   \n",
            "1995    0.8        106        6  ...       1222      1890   668    13     4   \n",
            "1996    0.2        187        4  ...        915      1965  2032    11    10   \n",
            "1997    0.7        108        8  ...        868      1632  3057     9     1   \n",
            "1998    0.1        145        5  ...        336       670   869    18    10   \n",
            "1999    0.9        168        6  ...        483       754  3919    19     4   \n",
            "\n",
            "      talk_time  three_g  touch_screen  wifi  price_range  \n",
            "0            19        0             0     1            1  \n",
            "1             7        1             1     0            2  \n",
            "2             9        1             1     0            2  \n",
            "3            11        1             0     0            2  \n",
            "4            15        1             1     0            1  \n",
            "...         ...      ...           ...   ...          ...  \n",
            "1995         19        1             1     0            0  \n",
            "1996         16        1             1     1            2  \n",
            "1997          5        1             1     0            3  \n",
            "1998         19        1             1     1            0  \n",
            "1999          2        1             1     1            3  \n",
            "\n",
            "[2000 rows x 21 columns]\n",
            "0       1\n",
            "1       2\n",
            "2       2\n",
            "3       2\n",
            "4       1\n",
            "       ..\n",
            "1995    0\n",
            "1996    2\n",
            "1997    3\n",
            "1998    0\n",
            "1999    3\n",
            "Name: price_range, Length: 2000, dtype: int64\n",
            "      battery_power  blue  clock_speed  dual_sim  fc  four_g  int_memory  \\\n",
            "0               842     0          2.2         0   1       0           7   \n",
            "1              1021     1          0.5         1   0       1          53   \n",
            "2               563     1          0.5         1   2       1          41   \n",
            "3               615     1          2.5         0   0       0          10   \n",
            "4              1821     1          1.2         0  13       1          44   \n",
            "...             ...   ...          ...       ...  ..     ...         ...   \n",
            "1995            794     1          0.5         1   0       1           2   \n",
            "1996           1965     1          2.6         1   0       0          39   \n",
            "1997           1911     0          0.9         1   1       1          36   \n",
            "1998           1512     0          0.9         0   4       1          46   \n",
            "1999            510     1          2.0         1   5       1          45   \n",
            "\n",
            "      m_dep  mobile_wt  n_cores  pc  px_height  px_width   ram  sc_h  sc_w  \\\n",
            "0       0.6        188        2   2         20       756  2549     9     7   \n",
            "1       0.7        136        3   6        905      1988  2631    17     3   \n",
            "2       0.9        145        5   6       1263      1716  2603    11     2   \n",
            "3       0.8        131        6   9       1216      1786  2769    16     8   \n",
            "4       0.6        141        2  14       1208      1212  1411     8     2   \n",
            "...     ...        ...      ...  ..        ...       ...   ...   ...   ...   \n",
            "1995    0.8        106        6  14       1222      1890   668    13     4   \n",
            "1996    0.2        187        4   3        915      1965  2032    11    10   \n",
            "1997    0.7        108        8   3        868      1632  3057     9     1   \n",
            "1998    0.1        145        5   5        336       670   869    18    10   \n",
            "1999    0.9        168        6  16        483       754  3919    19     4   \n",
            "\n",
            "      talk_time  three_g  touch_screen  wifi  \n",
            "0            19        0             0     1  \n",
            "1             7        1             1     0  \n",
            "2             9        1             1     0  \n",
            "3            11        1             0     0  \n",
            "4            15        1             1     0  \n",
            "...         ...      ...           ...   ...  \n",
            "1995         19        1             1     0  \n",
            "1996         16        1             1     1  \n",
            "1997          5        1             1     0  \n",
            "1998         19        1             1     1  \n",
            "1999          2        1             1     1  \n",
            "\n",
            "[2000 rows x 20 columns]\n"
          ]
        }
      ],
      "source": [
        "import pandas as pd\n",
        "dis=pd.read_csv(\"/content/train.csv\")\n",
        "print(dis)\n",
        "y=dis['price_range']\n",
        "print(y)\n",
        "x=dis.drop('price_range',axis=1)\n",
        "print(x)\n"
      ]
    },
    {
      "cell_type": "code",
      "source": [
        "xx=(x-x.min()) //(x.max() - x.min())\n",
        "print(xx)\n"
      ],
      "metadata": {
        "colab": {
          "base_uri": "https://localhost:8080/"
        },
        "id": "fApNz-zGb4Au",
        "outputId": "1bd634bc-eaf0-4bbc-cbb3-47183644f608"
      },
      "execution_count": null,
      "outputs": [
        {
          "output_type": "stream",
          "name": "stdout",
          "text": [
            "      battery_power  blue  clock_speed  dual_sim   fc  four_g  int_memory  \\\n",
            "0               0.0   0.0          0.0       0.0  0.0     0.0         0.0   \n",
            "1               0.0   1.0          0.0       1.0  0.0     1.0         0.0   \n",
            "2               0.0   1.0          0.0       1.0  0.0     1.0         0.0   \n",
            "3               0.0   1.0          0.0       0.0  0.0     0.0         0.0   \n",
            "4               0.0   1.0          0.0       0.0  0.0     1.0         0.0   \n",
            "...             ...   ...          ...       ...  ...     ...         ...   \n",
            "1995            0.0   1.0          0.0       1.0  0.0     1.0         0.0   \n",
            "1996            0.0   1.0          0.0       1.0  0.0     0.0         0.0   \n",
            "1997            0.0   0.0          0.0       1.0  0.0     1.0         0.0   \n",
            "1998            0.0   0.0          0.0       0.0  0.0     1.0         0.0   \n",
            "1999            0.0   1.0          0.0       1.0  0.0     1.0         0.0   \n",
            "\n",
            "      m_dep  mobile_wt  n_cores   pc  px_height  px_width  ram  sc_h  sc_w  \\\n",
            "0       0.0        0.0      0.0  0.0        0.0       0.0  0.0   0.0   0.0   \n",
            "1       0.0        0.0      0.0  0.0        0.0       0.0  0.0   0.0   0.0   \n",
            "2       0.0        0.0      0.0  0.0        0.0       0.0  0.0   0.0   0.0   \n",
            "3       0.0        0.0      0.0  0.0        0.0       0.0  0.0   0.0   0.0   \n",
            "4       0.0        0.0      0.0  0.0        0.0       0.0  0.0   0.0   0.0   \n",
            "...     ...        ...      ...  ...        ...       ...  ...   ...   ...   \n",
            "1995    0.0        0.0      0.0  0.0        0.0       0.0  0.0   0.0   0.0   \n",
            "1996    0.0        0.0      0.0  0.0        0.0       0.0  0.0   0.0   0.0   \n",
            "1997    0.0        0.0      1.0  0.0        0.0       0.0  0.0   0.0   0.0   \n",
            "1998    0.0        0.0      0.0  0.0        0.0       0.0  0.0   0.0   0.0   \n",
            "1999    0.0        0.0      0.0  0.0        0.0       0.0  0.0   1.0   0.0   \n",
            "\n",
            "      talk_time  three_g  touch_screen  wifi  \n",
            "0           0.0      0.0           0.0   1.0  \n",
            "1           0.0      1.0           1.0   0.0  \n",
            "2           0.0      1.0           1.0   0.0  \n",
            "3           0.0      1.0           0.0   0.0  \n",
            "4           0.0      1.0           1.0   0.0  \n",
            "...         ...      ...           ...   ...  \n",
            "1995        0.0      1.0           1.0   0.0  \n",
            "1996        0.0      1.0           1.0   1.0  \n",
            "1997        0.0      1.0           1.0   0.0  \n",
            "1998        0.0      1.0           1.0   1.0  \n",
            "1999        0.0      1.0           1.0   1.0  \n",
            "\n",
            "[2000 rows x 20 columns]\n"
          ]
        }
      ]
    },
    {
      "cell_type": "code",
      "source": [
        "from sklearn.model_selection import train_test_split\n",
        "x_train,x_test,y_train,y_test=train_test_split(xx,y,test_size=0.2,random_state=42)\n"
      ],
      "metadata": {
        "id": "YTWUnEclYt9Q"
      },
      "execution_count": null,
      "outputs": []
    },
    {
      "cell_type": "code",
      "source": [
        "print (x_train)\n",
        "print (x_test)\n",
        "print (y_train)\n",
        "print (y_test)"
      ],
      "metadata": {
        "colab": {
          "base_uri": "https://localhost:8080/"
        },
        "id": "MV5OUkJ6cFC5",
        "outputId": "1329f183-a833-4f6f-f8d8-4b80cd6dae55"
      },
      "execution_count": null,
      "outputs": [
        {
          "output_type": "stream",
          "name": "stdout",
          "text": [
            "      battery_power  blue  clock_speed  dual_sim   fc  four_g  int_memory  \\\n",
            "968             0.0   0.0          0.0       1.0  0.0     0.0         0.0   \n",
            "240             0.0   1.0          0.0       0.0  0.0     1.0         0.0   \n",
            "819             0.0   0.0          0.0       1.0  0.0     1.0         0.0   \n",
            "692             0.0   0.0          0.0       0.0  0.0     0.0         0.0   \n",
            "420             0.0   1.0          0.0       1.0  0.0     0.0         0.0   \n",
            "...             ...   ...          ...       ...  ...     ...         ...   \n",
            "1130            0.0   1.0          0.0       1.0  0.0     0.0         0.0   \n",
            "1294            0.0   1.0          0.0       0.0  0.0     1.0         0.0   \n",
            "860             0.0   1.0          0.0       0.0  0.0     1.0         0.0   \n",
            "1459            0.0   0.0          0.0       1.0  0.0     0.0         0.0   \n",
            "1126            0.0   1.0          0.0       1.0  0.0     1.0         0.0   \n",
            "\n",
            "      m_dep  mobile_wt  n_cores   pc  px_height  px_width  ram  sc_h  sc_w  \\\n",
            "968     0.0        0.0      0.0  0.0        0.0       0.0  0.0   0.0   0.0   \n",
            "240     0.0        0.0      1.0  0.0        0.0       0.0  0.0   0.0   0.0   \n",
            "819     0.0        0.0      0.0  0.0        0.0       0.0  0.0   0.0   0.0   \n",
            "692     0.0        0.0      0.0  0.0        0.0       0.0  0.0   0.0   0.0   \n",
            "420     0.0        0.0      0.0  0.0        0.0       0.0  0.0   0.0   0.0   \n",
            "...     ...        ...      ...  ...        ...       ...  ...   ...   ...   \n",
            "1130    0.0        0.0      0.0  0.0        0.0       0.0  0.0   0.0   0.0   \n",
            "1294    0.0        0.0      1.0  0.0        0.0       0.0  0.0   0.0   0.0   \n",
            "860     0.0        0.0      0.0  0.0        0.0       0.0  0.0   0.0   0.0   \n",
            "1459    0.0        0.0      1.0  0.0        0.0       0.0  0.0   0.0   0.0   \n",
            "1126    0.0        0.0      0.0  0.0        0.0       0.0  0.0   0.0   0.0   \n",
            "\n",
            "      talk_time  three_g  touch_screen  wifi  \n",
            "968         0.0      1.0           1.0   1.0  \n",
            "240         0.0      1.0           1.0   1.0  \n",
            "819         1.0      1.0           0.0   1.0  \n",
            "692         0.0      0.0           0.0   1.0  \n",
            "420         1.0      1.0           0.0   1.0  \n",
            "...         ...      ...           ...   ...  \n",
            "1130        0.0      0.0           0.0   1.0  \n",
            "1294        0.0      1.0           1.0   1.0  \n",
            "860         0.0      1.0           0.0   1.0  \n",
            "1459        0.0      0.0           1.0   1.0  \n",
            "1126        0.0      1.0           0.0   0.0  \n",
            "\n",
            "[1600 rows x 20 columns]\n",
            "      battery_power  blue  clock_speed  dual_sim   fc  four_g  int_memory  \\\n",
            "1860            0.0   0.0          0.0       0.0  0.0     1.0         0.0   \n",
            "353             0.0   0.0          0.0       0.0  0.0     1.0         0.0   \n",
            "1333            0.0   0.0          0.0       0.0  0.0     0.0         0.0   \n",
            "905             0.0   1.0          0.0       0.0  0.0     0.0         0.0   \n",
            "1289            0.0   1.0          0.0       1.0  0.0     0.0         0.0   \n",
            "...             ...   ...          ...       ...  ...     ...         ...   \n",
            "965             0.0   0.0          0.0       1.0  0.0     0.0         0.0   \n",
            "1284            0.0   0.0          0.0       0.0  0.0     1.0         0.0   \n",
            "1739            0.0   0.0          0.0       0.0  0.0     1.0         0.0   \n",
            "261             0.0   0.0          0.0       1.0  0.0     0.0         0.0   \n",
            "535             0.0   0.0          0.0       0.0  0.0     0.0         0.0   \n",
            "\n",
            "      m_dep  mobile_wt  n_cores   pc  px_height  px_width  ram  sc_h  sc_w  \\\n",
            "1860    0.0        1.0      0.0  0.0        0.0       0.0  0.0   0.0   0.0   \n",
            "353     0.0        0.0      1.0  0.0        0.0       0.0  0.0   1.0   0.0   \n",
            "1333    0.0        0.0      0.0  0.0        0.0       0.0  0.0   0.0   0.0   \n",
            "905     0.0        0.0      0.0  0.0        0.0       0.0  0.0   0.0   0.0   \n",
            "1289    0.0        0.0      0.0  0.0        0.0       0.0  0.0   0.0   0.0   \n",
            "...     ...        ...      ...  ...        ...       ...  ...   ...   ...   \n",
            "965     0.0        0.0      1.0  0.0        0.0       0.0  0.0   0.0   0.0   \n",
            "1284    0.0        0.0      0.0  0.0        0.0       0.0  0.0   0.0   0.0   \n",
            "1739    0.0        0.0      0.0  0.0        0.0       0.0  0.0   0.0   0.0   \n",
            "261     0.0        0.0      0.0  0.0        0.0       0.0  0.0   0.0   0.0   \n",
            "535     0.0        0.0      1.0  0.0        0.0       0.0  0.0   0.0   0.0   \n",
            "\n",
            "      talk_time  three_g  touch_screen  wifi  \n",
            "1860        0.0      1.0           1.0   0.0  \n",
            "353         0.0      1.0           0.0   0.0  \n",
            "1333        0.0      1.0           1.0   0.0  \n",
            "905         0.0      1.0           1.0   0.0  \n",
            "1289        0.0      1.0           0.0   0.0  \n",
            "...         ...      ...           ...   ...  \n",
            "965         0.0      0.0           1.0   1.0  \n",
            "1284        0.0      1.0           0.0   0.0  \n",
            "1739        0.0      1.0           1.0   1.0  \n",
            "261         0.0      1.0           1.0   1.0  \n",
            "535         0.0      1.0           1.0   1.0  \n",
            "\n",
            "[400 rows x 20 columns]\n",
            "968     1\n",
            "240     2\n",
            "819     0\n",
            "692     3\n",
            "420     1\n",
            "       ..\n",
            "1130    3\n",
            "1294    0\n",
            "860     2\n",
            "1459    3\n",
            "1126    1\n",
            "Name: price_range, Length: 1600, dtype: int64\n",
            "1860    0\n",
            "353     2\n",
            "1333    1\n",
            "905     3\n",
            "1289    1\n",
            "       ..\n",
            "965     3\n",
            "1284    2\n",
            "1739    1\n",
            "261     1\n",
            "535     2\n",
            "Name: price_range, Length: 400, dtype: int64\n"
          ]
        }
      ]
    },
    {
      "cell_type": "markdown",
      "source": [
        "4th Assignment 2nd question"
      ],
      "metadata": {
        "id": "gUYoxPA1evzI"
      }
    },
    {
      "cell_type": "code",
      "source": [
        "import pandas as pd\n",
        "dis=pd.read_csv(\"/content/housing.csv\")\n",
        "print(dis)"
      ],
      "metadata": {
        "colab": {
          "base_uri": "https://localhost:8080/"
        },
        "id": "oqj55BLee5vc",
        "outputId": "3ecfd56e-2a20-4eb4-e010-3551dd38269b"
      },
      "execution_count": null,
      "outputs": [
        {
          "output_type": "stream",
          "name": "stdout",
          "text": [
            "       longitude  latitude  housing_median_age  total_rooms  total_bedrooms  \\\n",
            "0        -122.23     37.88                41.0        880.0           129.0   \n",
            "1        -122.22     37.86                21.0       7099.0          1106.0   \n",
            "2        -122.24     37.85                52.0       1467.0           190.0   \n",
            "3        -122.25     37.85                52.0       1274.0           235.0   \n",
            "4        -122.25     37.85                52.0       1627.0           280.0   \n",
            "...          ...       ...                 ...          ...             ...   \n",
            "20635    -121.09     39.48                25.0       1665.0           374.0   \n",
            "20636    -121.21     39.49                18.0        697.0           150.0   \n",
            "20637    -121.22     39.43                17.0       2254.0           485.0   \n",
            "20638    -121.32     39.43                18.0       1860.0           409.0   \n",
            "20639    -121.24     39.37                16.0       2785.0           616.0   \n",
            "\n",
            "       population  households  median_income  median_house_value  \\\n",
            "0           322.0       126.0         8.3252            452600.0   \n",
            "1          2401.0      1138.0         8.3014            358500.0   \n",
            "2           496.0       177.0         7.2574            352100.0   \n",
            "3           558.0       219.0         5.6431            341300.0   \n",
            "4           565.0       259.0         3.8462            342200.0   \n",
            "...           ...         ...            ...                 ...   \n",
            "20635       845.0       330.0         1.5603             78100.0   \n",
            "20636       356.0       114.0         2.5568             77100.0   \n",
            "20637      1007.0       433.0         1.7000             92300.0   \n",
            "20638       741.0       349.0         1.8672             84700.0   \n",
            "20639      1387.0       530.0         2.3886             89400.0   \n",
            "\n",
            "      ocean_proximity  \n",
            "0            NEAR BAY  \n",
            "1            NEAR BAY  \n",
            "2            NEAR BAY  \n",
            "3            NEAR BAY  \n",
            "4            NEAR BAY  \n",
            "...               ...  \n",
            "20635          INLAND  \n",
            "20636          INLAND  \n",
            "20637          INLAND  \n",
            "20638          INLAND  \n",
            "20639          INLAND  \n",
            "\n",
            "[20640 rows x 10 columns]\n",
            "0        NEAR BAY\n",
            "1        NEAR BAY\n",
            "2        NEAR BAY\n",
            "3        NEAR BAY\n",
            "4        NEAR BAY\n",
            "           ...   \n",
            "20635      INLAND\n",
            "20636      INLAND\n",
            "20637      INLAND\n",
            "20638      INLAND\n",
            "20639      INLAND\n",
            "Name: ocean_proximity, Length: 20640, dtype: object\n"
          ]
        }
      ]
    },
    {
      "cell_type": "code",
      "source": [
        "print(dis.describe())"
      ],
      "metadata": {
        "colab": {
          "base_uri": "https://localhost:8080/"
        },
        "id": "Zp4jFGcSkCNS",
        "outputId": "e5ae2545-ebfc-4059-f1e8-7ea667dba517"
      },
      "execution_count": null,
      "outputs": [
        {
          "output_type": "stream",
          "name": "stdout",
          "text": [
            "          longitude      latitude  housing_median_age   total_rooms  \\\n",
            "count  20640.000000  20640.000000        20640.000000  20640.000000   \n",
            "mean    -119.569704     35.631861           28.639486   2635.763081   \n",
            "std        2.003532      2.135952           12.585558   2181.615252   \n",
            "min     -124.350000     32.540000            1.000000      2.000000   \n",
            "25%     -121.800000     33.930000           18.000000   1447.750000   \n",
            "50%     -118.490000     34.260000           29.000000   2127.000000   \n",
            "75%     -118.010000     37.710000           37.000000   3148.000000   \n",
            "max     -114.310000     41.950000           52.000000  39320.000000   \n",
            "\n",
            "       total_bedrooms    population    households  median_income  \\\n",
            "count    20433.000000  20640.000000  20640.000000   20640.000000   \n",
            "mean       537.870553   1425.476744    499.539680       3.870671   \n",
            "std        421.385070   1132.462122    382.329753       1.899822   \n",
            "min          1.000000      3.000000      1.000000       0.499900   \n",
            "25%        296.000000    787.000000    280.000000       2.563400   \n",
            "50%        435.000000   1166.000000    409.000000       3.534800   \n",
            "75%        647.000000   1725.000000    605.000000       4.743250   \n",
            "max       6445.000000  35682.000000   6082.000000      15.000100   \n",
            "\n",
            "       median_house_value  \n",
            "count        20640.000000  \n",
            "mean        206855.816909  \n",
            "std         115395.615874  \n",
            "min          14999.000000  \n",
            "25%         119600.000000  \n",
            "50%         179700.000000  \n",
            "75%         264725.000000  \n",
            "max         500001.000000  \n"
          ]
        }
      ]
    },
    {
      "cell_type": "code",
      "source": [
        "print(type(dis['longitude']))\n",
        "print(type(dis['latitude']))\n",
        "print(type(dis['housing_median_age']))\n",
        "print(type(dis['total_rooms']))\n",
        "print(type(dis['total_bedrooms']))\n",
        "print(type(dis['population']))\n",
        "print(type(dis['households']))\n",
        "print(type(dis['median_income']))\n",
        "print(type(dis['median_house_value']))\n",
        "print(type(dis['ocean_proximity']))"
      ],
      "metadata": {
        "colab": {
          "base_uri": "https://localhost:8080/"
        },
        "id": "TjA75hkBkL0u",
        "outputId": "b8d57897-c1c5-4c85-a28c-0288a7fd4486"
      },
      "execution_count": null,
      "outputs": [
        {
          "output_type": "stream",
          "name": "stdout",
          "text": [
            "<class 'pandas.core.series.Series'>\n",
            "<class 'pandas.core.series.Series'>\n",
            "<class 'pandas.core.series.Series'>\n",
            "<class 'pandas.core.series.Series'>\n",
            "<class 'pandas.core.series.Series'>\n",
            "<class 'pandas.core.series.Series'>\n",
            "<class 'pandas.core.series.Series'>\n",
            "<class 'pandas.core.series.Series'>\n",
            "<class 'pandas.core.series.Series'>\n",
            "<class 'pandas.core.series.Series'>\n"
          ]
        }
      ]
    },
    {
      "cell_type": "code",
      "source": [
        "print(dis['longitude'].shape)\n",
        "print(dis['latitude'].shape)\n",
        "print(dis['housing_median_age'].shape)\n",
        "print(dis['total_rooms'].shape)\n",
        "print(dis['total_bedrooms'].shape)\n",
        "print(dis['population'].shape)\n",
        "print(dis['households'].shape)\n",
        "print(dis['median_income'].shape)\n",
        "print(dis['median_house_value'].shape)\n",
        "print(dis['ocean_proximity'].shape)"
      ],
      "metadata": {
        "colab": {
          "base_uri": "https://localhost:8080/"
        },
        "id": "HYMQK_GzkeOn",
        "outputId": "41e78f8c-84c7-4670-82fa-1e1431e8da74"
      },
      "execution_count": null,
      "outputs": [
        {
          "output_type": "stream",
          "name": "stdout",
          "text": [
            "(20640,)\n",
            "(20640,)\n",
            "(20640,)\n",
            "(20640,)\n",
            "(20640,)\n",
            "(20640,)\n",
            "(20640,)\n",
            "(20640,)\n",
            "(20640,)\n",
            "(20640,)\n"
          ]
        }
      ]
    },
    {
      "cell_type": "code",
      "source": [
        "y=dis['ocean_proximity']\n",
        "print(y)"
      ],
      "metadata": {
        "colab": {
          "base_uri": "https://localhost:8080/"
        },
        "id": "TMzTG6EFjWhu",
        "outputId": "c52439fb-c319-4f7b-d0ca-25268ad147f1"
      },
      "execution_count": null,
      "outputs": [
        {
          "output_type": "stream",
          "name": "stdout",
          "text": [
            "0        NEAR BAY\n",
            "1        NEAR BAY\n",
            "2        NEAR BAY\n",
            "3        NEAR BAY\n",
            "4        NEAR BAY\n",
            "           ...   \n",
            "20635      INLAND\n",
            "20636      INLAND\n",
            "20637      INLAND\n",
            "20638      INLAND\n",
            "20639      INLAND\n",
            "Name: ocean_proximity, Length: 20640, dtype: object\n"
          ]
        }
      ]
    },
    {
      "cell_type": "code",
      "source": [
        "x=dis.drop('ocean_proximity',axis=1)\n",
        "print(x)"
      ],
      "metadata": {
        "colab": {
          "base_uri": "https://localhost:8080/"
        },
        "id": "FGmMd6RjhNhb",
        "outputId": "c49bc287-cf47-40d5-a225-ed6705699892"
      },
      "execution_count": null,
      "outputs": [
        {
          "output_type": "stream",
          "name": "stdout",
          "text": [
            "       longitude  latitude  housing_median_age  total_rooms  total_bedrooms  \\\n",
            "0        -122.23     37.88                41.0        880.0           129.0   \n",
            "1        -122.22     37.86                21.0       7099.0          1106.0   \n",
            "2        -122.24     37.85                52.0       1467.0           190.0   \n",
            "3        -122.25     37.85                52.0       1274.0           235.0   \n",
            "4        -122.25     37.85                52.0       1627.0           280.0   \n",
            "...          ...       ...                 ...          ...             ...   \n",
            "20635    -121.09     39.48                25.0       1665.0           374.0   \n",
            "20636    -121.21     39.49                18.0        697.0           150.0   \n",
            "20637    -121.22     39.43                17.0       2254.0           485.0   \n",
            "20638    -121.32     39.43                18.0       1860.0           409.0   \n",
            "20639    -121.24     39.37                16.0       2785.0           616.0   \n",
            "\n",
            "       population  households  median_income  median_house_value  \n",
            "0           322.0       126.0         8.3252            452600.0  \n",
            "1          2401.0      1138.0         8.3014            358500.0  \n",
            "2           496.0       177.0         7.2574            352100.0  \n",
            "3           558.0       219.0         5.6431            341300.0  \n",
            "4           565.0       259.0         3.8462            342200.0  \n",
            "...           ...         ...            ...                 ...  \n",
            "20635       845.0       330.0         1.5603             78100.0  \n",
            "20636       356.0       114.0         2.5568             77100.0  \n",
            "20637      1007.0       433.0         1.7000             92300.0  \n",
            "20638       741.0       349.0         1.8672             84700.0  \n",
            "20639      1387.0       530.0         2.3886             89400.0  \n",
            "\n",
            "[20640 rows x 9 columns]\n"
          ]
        }
      ]
    },
    {
      "cell_type": "code",
      "source": [
        "print(dis.isnull().sum())"
      ],
      "metadata": {
        "colab": {
          "base_uri": "https://localhost:8080/"
        },
        "id": "xq83dICbjrpc",
        "outputId": "2831ac7e-d395-48e6-9f55-18b831941b63"
      },
      "execution_count": null,
      "outputs": [
        {
          "output_type": "stream",
          "name": "stdout",
          "text": [
            "longitude               0\n",
            "latitude                0\n",
            "housing_median_age      0\n",
            "total_rooms             0\n",
            "total_bedrooms        207\n",
            "population              0\n",
            "households              0\n",
            "median_income           0\n",
            "median_house_value      0\n",
            "ocean_proximity         0\n",
            "dtype: int64\n"
          ]
        }
      ]
    },
    {
      "cell_type": "code",
      "source": [
        "xx=x-x.min() //(x.max() - x.min())\n",
        "print(xx)"
      ],
      "metadata": {
        "colab": {
          "base_uri": "https://localhost:8080/"
        },
        "id": "AaZMmIWNk7oV",
        "outputId": "db768939-5cbf-4ef9-f3d3-ed2765c29b6c"
      },
      "execution_count": null,
      "outputs": [
        {
          "output_type": "stream",
          "name": "stdout",
          "text": [
            "       longitude  latitude  housing_median_age  total_rooms  total_bedrooms  \\\n",
            "0        -109.23     34.88                41.0        880.0           129.0   \n",
            "1        -109.22     34.86                21.0       7099.0          1106.0   \n",
            "2        -109.24     34.85                52.0       1467.0           190.0   \n",
            "3        -109.25     34.85                52.0       1274.0           235.0   \n",
            "4        -109.25     34.85                52.0       1627.0           280.0   \n",
            "...          ...       ...                 ...          ...             ...   \n",
            "20635    -108.09     36.48                25.0       1665.0           374.0   \n",
            "20636    -108.21     36.49                18.0        697.0           150.0   \n",
            "20637    -108.22     36.43                17.0       2254.0           485.0   \n",
            "20638    -108.32     36.43                18.0       1860.0           409.0   \n",
            "20639    -108.24     36.37                16.0       2785.0           616.0   \n",
            "\n",
            "       population  households  median_income  median_house_value  \n",
            "0           322.0       126.0         8.3252            452600.0  \n",
            "1          2401.0      1138.0         8.3014            358500.0  \n",
            "2           496.0       177.0         7.2574            352100.0  \n",
            "3           558.0       219.0         5.6431            341300.0  \n",
            "4           565.0       259.0         3.8462            342200.0  \n",
            "...           ...         ...            ...                 ...  \n",
            "20635       845.0       330.0         1.5603             78100.0  \n",
            "20636       356.0       114.0         2.5568             77100.0  \n",
            "20637      1007.0       433.0         1.7000             92300.0  \n",
            "20638       741.0       349.0         1.8672             84700.0  \n",
            "20639      1387.0       530.0         2.3886             89400.0  \n",
            "\n",
            "[20640 rows x 9 columns]\n"
          ]
        }
      ]
    },
    {
      "cell_type": "code",
      "source": [],
      "metadata": {
        "id": "drOZ-WgLlC-W"
      },
      "execution_count": null,
      "outputs": []
    }
  ]
}